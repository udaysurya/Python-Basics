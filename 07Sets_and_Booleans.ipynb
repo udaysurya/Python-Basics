{
  "nbformat": 4,
  "nbformat_minor": 0,
  "metadata": {
    "kernelspec": {
      "display_name": "Python 3",
      "language": "python",
      "name": "python3"
    },
    "language_info": {
      "codemirror_mode": {
        "name": "ipython",
        "version": 3
      },
      "file_extension": ".py",
      "mimetype": "text/x-python",
      "name": "python",
      "nbconvert_exporter": "python",
      "pygments_lexer": "ipython3",
      "version": "3.6.5"
    },
    "colab": {
      "name": "07Sets_and_Booleans.ipynb",
      "version": "0.3.2",
      "provenance": [],
      "collapsed_sections": []
    }
  },
  "cells": [
    {
      "cell_type": "markdown",
      "metadata": {
        "id": "p1SHs6L1B2oJ",
        "colab_type": "text"
      },
      "source": [
        "# Set and Booleans\n",
        "\n",
        "There are two other object types in Python that we should quickly cover: Sets and Booleans. \n",
        "\n",
        "## Sets\n",
        "\n",
        "Sets are an unordered collection of *unique* elements. We can construct them by using the set() function. Let's go ahead and make a set to see how it works"
      ]
    },
    {
      "cell_type": "code",
      "metadata": {
        "id": "5-imkKssB2oM",
        "colab_type": "code",
        "colab": {}
      },
      "source": [
        "x = set()"
      ],
      "execution_count": 0,
      "outputs": []
    },
    {
      "cell_type": "code",
      "metadata": {
        "id": "sUUV8-wYB2oT",
        "colab_type": "code",
        "colab": {}
      },
      "source": [
        "# We add to sets with the add() method\n",
        "x.add(1)"
      ],
      "execution_count": 0,
      "outputs": []
    },
    {
      "cell_type": "code",
      "metadata": {
        "id": "ItV78WrqB2oY",
        "colab_type": "code",
        "colab": {
          "base_uri": "https://localhost:8080/",
          "height": 34
        },
        "outputId": "cbfa20d9-496a-4939-851b-c86b1ae7afec"
      },
      "source": [
        "#Show\n",
        "x"
      ],
      "execution_count": 3,
      "outputs": [
        {
          "output_type": "execute_result",
          "data": {
            "text/plain": [
              "{1}"
            ]
          },
          "metadata": {
            "tags": []
          },
          "execution_count": 3
        }
      ]
    },
    {
      "cell_type": "markdown",
      "metadata": {
        "id": "2Xzo0rayB2oi",
        "colab_type": "text"
      },
      "source": [
        "Note the curly brackets. This does not indicate a dictionary! Although you can draw analogies as a set being a dictionary with only keys.\n",
        "\n",
        "We know that a set has only unique entries. So what happens when we try to add something that is already in a set?"
      ]
    },
    {
      "cell_type": "code",
      "metadata": {
        "id": "JpDaLgk9B2oj",
        "colab_type": "code",
        "colab": {}
      },
      "source": [
        "# Add a different element\n",
        "x.add(2)"
      ],
      "execution_count": 0,
      "outputs": []
    },
    {
      "cell_type": "code",
      "metadata": {
        "id": "bZ9M1VKPB2oo",
        "colab_type": "code",
        "colab": {
          "base_uri": "https://localhost:8080/",
          "height": 34
        },
        "outputId": "31355a88-2f86-45ef-f229-55ec3f0f8d7e"
      },
      "source": [
        "#Show\n",
        "x"
      ],
      "execution_count": 5,
      "outputs": [
        {
          "output_type": "execute_result",
          "data": {
            "text/plain": [
              "{1, 2}"
            ]
          },
          "metadata": {
            "tags": []
          },
          "execution_count": 5
        }
      ]
    },
    {
      "cell_type": "code",
      "metadata": {
        "id": "ZtJffJH8B2ov",
        "colab_type": "code",
        "colab": {}
      },
      "source": [
        "# Try to add the same element\n",
        "x.add(1)"
      ],
      "execution_count": 0,
      "outputs": []
    },
    {
      "cell_type": "code",
      "metadata": {
        "id": "RTjSiZW5B2o0",
        "colab_type": "code",
        "colab": {
          "base_uri": "https://localhost:8080/",
          "height": 34
        },
        "outputId": "bfe75ee9-c87e-4ce5-9684-37985c5cb169"
      },
      "source": [
        "#Show\n",
        "x"
      ],
      "execution_count": 7,
      "outputs": [
        {
          "output_type": "execute_result",
          "data": {
            "text/plain": [
              "{1, 2}"
            ]
          },
          "metadata": {
            "tags": []
          },
          "execution_count": 7
        }
      ]
    },
    {
      "cell_type": "markdown",
      "metadata": {
        "id": "qpURNNdQB2o7",
        "colab_type": "text"
      },
      "source": [
        "Notice how it won't place another 1 there. That's because a set is only concerned with unique elements! We can cast a list with multiple repeat elements to a set to get the unique elements. For example:"
      ]
    },
    {
      "cell_type": "code",
      "metadata": {
        "id": "3sbNQLKTB2o8",
        "colab_type": "code",
        "colab": {}
      },
      "source": [
        "# Create a list with repeats\n",
        "list1 = [1,1,2,2,3,4,5,6,1,1]"
      ],
      "execution_count": 0,
      "outputs": []
    },
    {
      "cell_type": "code",
      "metadata": {
        "id": "SScEk-nkB2pB",
        "colab_type": "code",
        "colab": {
          "base_uri": "https://localhost:8080/",
          "height": 34
        },
        "outputId": "ad2e9bd8-aa22-46cf-efee-40c838615f79"
      },
      "source": [
        "# Cast as set to get unique values\n",
        "set(list1)"
      ],
      "execution_count": 9,
      "outputs": [
        {
          "output_type": "execute_result",
          "data": {
            "text/plain": [
              "{1, 2, 3, 4, 5, 6}"
            ]
          },
          "metadata": {
            "tags": []
          },
          "execution_count": 9
        }
      ]
    },
    {
      "cell_type": "markdown",
      "metadata": {
        "id": "Ukm6w31pB2pI",
        "colab_type": "text"
      },
      "source": [
        "## Booleans\n",
        "\n",
        "Python  comes with Booleans (with predefined True and False displays that are basically just the integers 1 and 0). It also has a placeholder object called None. Let's walk through a few quick examples of Booleans."
      ]
    },
    {
      "cell_type": "code",
      "metadata": {
        "id": "LJlkctIQB2pJ",
        "colab_type": "code",
        "colab": {}
      },
      "source": [
        "# Set object to be a boolean\n",
        "a = True"
      ],
      "execution_count": 0,
      "outputs": []
    },
    {
      "cell_type": "code",
      "metadata": {
        "id": "Ys2gYV36B2pO",
        "colab_type": "code",
        "colab": {
          "base_uri": "https://localhost:8080/",
          "height": 34
        },
        "outputId": "f5ef820f-de67-48a5-e2c4-b58721f891b3"
      },
      "source": [
        "#Show\n",
        "a"
      ],
      "execution_count": 11,
      "outputs": [
        {
          "output_type": "execute_result",
          "data": {
            "text/plain": [
              "True"
            ]
          },
          "metadata": {
            "tags": []
          },
          "execution_count": 11
        }
      ]
    },
    {
      "cell_type": "markdown",
      "metadata": {
        "id": "oGxHEEGyB2pT",
        "colab_type": "text"
      },
      "source": [
        "We can also use comparison operators to create booleans. We will go over all the comparison operators later on in the course."
      ]
    },
    {
      "cell_type": "code",
      "metadata": {
        "id": "U88WCky1B2pU",
        "colab_type": "code",
        "colab": {
          "base_uri": "https://localhost:8080/",
          "height": 34
        },
        "outputId": "5afd0ac9-4c99-41fa-a758-07eb8978683a"
      },
      "source": [
        "# Output is boolean\n",
        "1 > 2"
      ],
      "execution_count": 12,
      "outputs": [
        {
          "output_type": "execute_result",
          "data": {
            "text/plain": [
              "False"
            ]
          },
          "metadata": {
            "tags": []
          },
          "execution_count": 12
        }
      ]
    },
    {
      "cell_type": "markdown",
      "metadata": {
        "id": "bX4Fdu7gB2pY",
        "colab_type": "text"
      },
      "source": [
        "We can use None as a placeholder for an object that we don't want to reassign yet:"
      ]
    },
    {
      "cell_type": "code",
      "metadata": {
        "id": "bRFwDIuuB2pZ",
        "colab_type": "code",
        "colab": {}
      },
      "source": [
        "# None placeholder\n",
        "b = None"
      ],
      "execution_count": 0,
      "outputs": []
    },
    {
      "cell_type": "code",
      "metadata": {
        "id": "mhOO0RUpB2pc",
        "colab_type": "code",
        "colab": {
          "base_uri": "https://localhost:8080/",
          "height": 34
        },
        "outputId": "23bd14a0-bee6-4585-8db4-84263b6e91f1"
      },
      "source": [
        "# Show\n",
        "print(b)"
      ],
      "execution_count": 14,
      "outputs": [
        {
          "output_type": "stream",
          "text": [
            "None\n"
          ],
          "name": "stdout"
        }
      ]
    },
    {
      "cell_type": "code",
      "metadata": {
        "id": "hLsIffpHC1c2",
        "colab_type": "code",
        "colab": {}
      },
      "source": [
        ""
      ],
      "execution_count": 0,
      "outputs": []
    }
  ]
}