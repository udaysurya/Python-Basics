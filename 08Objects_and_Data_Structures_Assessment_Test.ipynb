{
  "nbformat": 4,
  "nbformat_minor": 0,
  "metadata": {
    "anaconda-cloud": {},
    "kernelspec": {
      "display_name": "Python 3",
      "language": "python",
      "name": "python3"
    },
    "language_info": {
      "codemirror_mode": {
        "name": "ipython",
        "version": 3
      },
      "file_extension": ".py",
      "mimetype": "text/x-python",
      "name": "python",
      "nbconvert_exporter": "python",
      "pygments_lexer": "ipython3",
      "version": "3.6.5"
    },
    "colab": {
      "name": "09Objects_and_Data_Structures_Assessment_Test.ipynb",
      "version": "0.3.2",
      "provenance": [],
      "collapsed_sections": []
    }
  },
  "cells": [
    {
      "cell_type": "markdown",
      "metadata": {
        "id": "_q6vKyvbDCvJ",
        "colab_type": "text"
      },
      "source": [
        "# Objects and Data Structures Assessment Test"
      ]
    },
    {
      "cell_type": "markdown",
      "metadata": {
        "collapsed": true,
        "id": "i6rCFtjMDCvK",
        "colab_type": "text"
      },
      "source": [
        "## Test your knowledge. \n",
        "\n",
        "** Answer the following questions **"
      ]
    },
    {
      "cell_type": "markdown",
      "metadata": {
        "collapsed": true,
        "id": "WLzQtDSTDCvL",
        "colab_type": "text"
      },
      "source": [
        "Write a brief description of all the following Object Types and Data Structures we've learned about: "
      ]
    },
    {
      "cell_type": "markdown",
      "metadata": {
        "id": "C8ypd3q0DCvM",
        "colab_type": "text"
      },
      "source": [
        "*Numbers*: we can use numbers without quotes, for arthimethic operations \n",
        "\n",
        "Strings: we use by quotes, double quotes\n",
        "\n",
        "Lists:we use [] brackets, we can do slicing\n",
        "\n",
        "Tuples:tuples uses (), once it is used, values cant change \n",
        "\n",
        "Dictionaries:we use key value pairs here, {} here.\n"
      ]
    },
    {
      "cell_type": "markdown",
      "metadata": {
        "id": "-0dkk0_tDCvN",
        "colab_type": "text"
      },
      "source": [
        "## Numbers\n",
        "\n",
        "Write an equation that uses multiplication, division, an exponent, addition, and subtraction that is equal to 100.25.\n",
        "\n",
        "Hint: This is just to test your memory of the basic arithmetic commands, work backwards from 100.25"
      ]
    },
    {
      "cell_type": "code",
      "metadata": {
        "id": "wY-54kAXDYh4",
        "colab_type": "code",
        "colab": {
          "base_uri": "https://localhost:8080/",
          "height": 34
        },
        "outputId": "ac63d42a-c8ca-4233-f361-ae30d47b9221"
      },
      "source": [
        "100+0.25-0*1"
      ],
      "execution_count": 1,
      "outputs": [
        {
          "output_type": "execute_result",
          "data": {
            "text/plain": [
              "100.25"
            ]
          },
          "metadata": {
            "tags": []
          },
          "execution_count": 1
        }
      ]
    },
    {
      "cell_type": "code",
      "metadata": {
        "id": "6HZde5VODCvO",
        "colab_type": "code",
        "colab": {}
      },
      "source": [
        ""
      ],
      "execution_count": 0,
      "outputs": []
    },
    {
      "cell_type": "markdown",
      "metadata": {
        "id": "C-XJc9_QDCvR",
        "colab_type": "text"
      },
      "source": [
        "Answer these 3 questions without typing code. Then type code to check your answer.\n",
        "\n",
        "    What is the value of the expression 4 * (6 + 5)\n",
        "    \n",
        "    What is the value of the expression 4 * 6 + 5 \n",
        "    \n",
        "    What is the value of the expression 4 + 6 * 5 "
      ]
    },
    {
      "cell_type": "code",
      "metadata": {
        "id": "diX5JkAIDCvS",
        "colab_type": "code",
        "colab": {
          "base_uri": "https://localhost:8080/",
          "height": 34
        },
        "outputId": "4cb5f80b-db42-49d5-d308-b8f5e5b18ced"
      },
      "source": [
        " 4 + 6 * 5 "
      ],
      "execution_count": 4,
      "outputs": [
        {
          "output_type": "execute_result",
          "data": {
            "text/plain": [
              "34"
            ]
          },
          "metadata": {
            "tags": []
          },
          "execution_count": 4
        }
      ]
    },
    {
      "cell_type": "markdown",
      "metadata": {
        "id": "yDC6kYyhDCvV",
        "colab_type": "text"
      },
      "source": [
        "What is the *type* of the result of the expression 3 + 1.5 + 4?<br><br>\n",
        "float"
      ]
    },
    {
      "cell_type": "markdown",
      "metadata": {
        "id": "h1Tlw_8qDCvW",
        "colab_type": "text"
      },
      "source": [
        "What would you use to find a number’s square root, as well as its square? "
      ]
    },
    {
      "cell_type": "code",
      "metadata": {
        "id": "q1QIEi7zDCvW",
        "colab_type": "code",
        "colab": {
          "base_uri": "https://localhost:8080/",
          "height": 34
        },
        "outputId": "23b26276-0731-4dfe-f3b2-e71d7ef3c0cd"
      },
      "source": [
        "# Square root:\n",
        "4**1/2"
      ],
      "execution_count": 5,
      "outputs": [
        {
          "output_type": "execute_result",
          "data": {
            "text/plain": [
              "2.0"
            ]
          },
          "metadata": {
            "tags": []
          },
          "execution_count": 5
        }
      ]
    },
    {
      "cell_type": "code",
      "metadata": {
        "id": "LCMzRHjiDCvZ",
        "colab_type": "code",
        "colab": {
          "base_uri": "https://localhost:8080/",
          "height": 34
        },
        "outputId": "f62b6240-cd7e-4fec-b51f-16257af7af3c"
      },
      "source": [
        "# Square:\n",
        "4**2"
      ],
      "execution_count": 6,
      "outputs": [
        {
          "output_type": "execute_result",
          "data": {
            "text/plain": [
              "16"
            ]
          },
          "metadata": {
            "tags": []
          },
          "execution_count": 6
        }
      ]
    },
    {
      "cell_type": "markdown",
      "metadata": {
        "id": "ICJrlmUeDCvb",
        "colab_type": "text"
      },
      "source": [
        "## Strings"
      ]
    },
    {
      "cell_type": "markdown",
      "metadata": {
        "id": "KBY38CYRDCvc",
        "colab_type": "text"
      },
      "source": [
        "Given the string 'hello' give an index command that returns 'e'. Enter your code in the cell below:"
      ]
    },
    {
      "cell_type": "code",
      "metadata": {
        "id": "bNwPB3MDDCvd",
        "colab_type": "code",
        "colab": {
          "base_uri": "https://localhost:8080/",
          "height": 34
        },
        "outputId": "bb0536d6-957a-40e9-bbd3-1d9096a0e360"
      },
      "source": [
        "s = 'hello'\n",
        "# Print out 'e' using indexing\n",
        "s[1]\n",
        "\n"
      ],
      "execution_count": 7,
      "outputs": [
        {
          "output_type": "execute_result",
          "data": {
            "text/plain": [
              "'e'"
            ]
          },
          "metadata": {
            "tags": []
          },
          "execution_count": 7
        }
      ]
    },
    {
      "cell_type": "markdown",
      "metadata": {
        "id": "-jIVLP4oDCvg",
        "colab_type": "text"
      },
      "source": [
        "Reverse the string 'hello' using slicing:"
      ]
    },
    {
      "cell_type": "code",
      "metadata": {
        "id": "wUybNzHtDCvg",
        "colab_type": "code",
        "colab": {
          "base_uri": "https://localhost:8080/",
          "height": 34
        },
        "outputId": "9ca19905-763e-4019-ffdb-8628ea9eec7c"
      },
      "source": [
        "s ='hello'\n",
        "# Reverse the string using slicing\n",
        "s[::-1]\n",
        "\n"
      ],
      "execution_count": 11,
      "outputs": [
        {
          "output_type": "execute_result",
          "data": {
            "text/plain": [
              "'olleh'"
            ]
          },
          "metadata": {
            "tags": []
          },
          "execution_count": 11
        }
      ]
    },
    {
      "cell_type": "markdown",
      "metadata": {
        "id": "M06lsHUxDCvj",
        "colab_type": "text"
      },
      "source": [
        "Given the string hello, give two methods of producing the letter 'o' using indexing."
      ]
    },
    {
      "cell_type": "code",
      "metadata": {
        "id": "R2My3nBfDCvl",
        "colab_type": "code",
        "colab": {
          "base_uri": "https://localhost:8080/",
          "height": 34
        },
        "outputId": "a5bc0b2c-72a4-4604-f6dc-9e9c93eb82f1"
      },
      "source": [
        "s ='hello'\n",
        "# Print out the 'o'\n",
        "\n",
        "# Method 1:\n",
        "s[-1]\n"
      ],
      "execution_count": 12,
      "outputs": [
        {
          "output_type": "execute_result",
          "data": {
            "text/plain": [
              "'o'"
            ]
          },
          "metadata": {
            "tags": []
          },
          "execution_count": 12
        }
      ]
    },
    {
      "cell_type": "code",
      "metadata": {
        "id": "hHRHCe3NDCvn",
        "colab_type": "code",
        "colab": {
          "base_uri": "https://localhost:8080/",
          "height": 34
        },
        "outputId": "04b8a3c1-dac2-4fbc-f2e4-d479ee830d13"
      },
      "source": [
        "# Method 2:\n",
        "\n",
        "s[4]"
      ],
      "execution_count": 13,
      "outputs": [
        {
          "output_type": "execute_result",
          "data": {
            "text/plain": [
              "'o'"
            ]
          },
          "metadata": {
            "tags": []
          },
          "execution_count": 13
        }
      ]
    },
    {
      "cell_type": "markdown",
      "metadata": {
        "id": "J-Sb8BwCDCvq",
        "colab_type": "text"
      },
      "source": [
        "## Lists"
      ]
    },
    {
      "cell_type": "markdown",
      "metadata": {
        "id": "KjVTO6nsDCvq",
        "colab_type": "text"
      },
      "source": [
        "Build this list [0,0,0] two separate ways."
      ]
    },
    {
      "cell_type": "code",
      "metadata": {
        "id": "F3cZPWjQDCvr",
        "colab_type": "code",
        "colab": {
          "base_uri": "https://localhost:8080/",
          "height": 34
        },
        "outputId": "6136b6ba-fdad-4f82-dfec-4be4770eff1a"
      },
      "source": [
        "# Method 1:\n",
        "\n",
        "l1=[0,0,0]\n",
        "l1"
      ],
      "execution_count": 15,
      "outputs": [
        {
          "output_type": "execute_result",
          "data": {
            "text/plain": [
              "[0, 0, 0]"
            ]
          },
          "metadata": {
            "tags": []
          },
          "execution_count": 15
        }
      ]
    },
    {
      "cell_type": "code",
      "metadata": {
        "id": "hMU21PzxDCvu",
        "colab_type": "code",
        "colab": {
          "base_uri": "https://localhost:8080/",
          "height": 34
        },
        "outputId": "61032589-2847-4609-d072-a488afb1833b"
      },
      "source": [
        "# Method 2:\n",
        "l2 = []\n",
        "l2.append(0)\n",
        "l2.append(0)\n",
        "l2.append(0)\n",
        "l2\n"
      ],
      "execution_count": 19,
      "outputs": [
        {
          "output_type": "execute_result",
          "data": {
            "text/plain": [
              "[0, 0, 0]"
            ]
          },
          "metadata": {
            "tags": []
          },
          "execution_count": 19
        }
      ]
    },
    {
      "cell_type": "markdown",
      "metadata": {
        "id": "IZRWPLnyDCvw",
        "colab_type": "text"
      },
      "source": [
        "Reassign 'hello' in this nested list to say 'goodbye' instead:"
      ]
    },
    {
      "cell_type": "code",
      "metadata": {
        "id": "YP0ZKEdODCvx",
        "colab_type": "code",
        "colab": {
          "base_uri": "https://localhost:8080/",
          "height": 34
        },
        "outputId": "6e77bc18-fbb1-471a-a181-b1eea2b02076"
      },
      "source": [
        "list3 = [1,2,[3,4,'hello']]\n",
        "list3[2][2]='goodbye' \n",
        "list3\n",
        "\n"
      ],
      "execution_count": 20,
      "outputs": [
        {
          "output_type": "execute_result",
          "data": {
            "text/plain": [
              "[1, 2, [3, 4, 'goodbye']]"
            ]
          },
          "metadata": {
            "tags": []
          },
          "execution_count": 20
        }
      ]
    },
    {
      "cell_type": "markdown",
      "metadata": {
        "id": "yxmicds2DCvz",
        "colab_type": "text"
      },
      "source": [
        "Sort the list below:"
      ]
    },
    {
      "cell_type": "code",
      "metadata": {
        "id": "RpDqYRk1DCv0",
        "colab_type": "code",
        "colab": {
          "base_uri": "https://localhost:8080/",
          "height": 34
        },
        "outputId": "f0e145a1-8293-4baa-c032-cd7056b1c90f"
      },
      "source": [
        "list4 = [5,3,4,6,1]\n",
        "list4.sort()\n",
        "print(list4)\n",
        "\n"
      ],
      "execution_count": 26,
      "outputs": [
        {
          "output_type": "stream",
          "text": [
            "[1, 3, 4, 5, 6]\n"
          ],
          "name": "stdout"
        }
      ]
    },
    {
      "cell_type": "markdown",
      "metadata": {
        "id": "WdlrrHtCDCv2",
        "colab_type": "text"
      },
      "source": [
        "## Dictionaries"
      ]
    },
    {
      "cell_type": "markdown",
      "metadata": {
        "id": "46qDNDcvDCv3",
        "colab_type": "text"
      },
      "source": [
        "Using keys and indexing, grab the 'hello' from the following dictionaries:"
      ]
    },
    {
      "cell_type": "code",
      "metadata": {
        "id": "NZby3MJADCv4",
        "colab_type": "code",
        "colab": {
          "base_uri": "https://localhost:8080/",
          "height": 34
        },
        "outputId": "71ce53b8-cc97-4fef-e5c8-4cad7844f0c9"
      },
      "source": [
        "d = {'simple_key':'hello'}\n",
        "# Grab 'hello'\n",
        "d['simple_key']"
      ],
      "execution_count": 28,
      "outputs": [
        {
          "output_type": "execute_result",
          "data": {
            "text/plain": [
              "'hello'"
            ]
          },
          "metadata": {
            "tags": []
          },
          "execution_count": 28
        }
      ]
    },
    {
      "cell_type": "code",
      "metadata": {
        "id": "aZd9c5kKDCv6",
        "colab_type": "code",
        "colab": {
          "base_uri": "https://localhost:8080/",
          "height": 34
        },
        "outputId": "c77efa2f-9f5b-4333-ff15-c05d07b1213a"
      },
      "source": [
        "d = {'k1':{'k2':'hello'}}\n",
        "# Grab 'hello'\n",
        "d['k1']['k2']"
      ],
      "execution_count": 33,
      "outputs": [
        {
          "output_type": "execute_result",
          "data": {
            "text/plain": [
              "'hello'"
            ]
          },
          "metadata": {
            "tags": []
          },
          "execution_count": 33
        }
      ]
    },
    {
      "cell_type": "code",
      "metadata": {
        "id": "U3tU0bYcDCv9",
        "colab_type": "code",
        "colab": {
          "base_uri": "https://localhost:8080/",
          "height": 34
        },
        "outputId": "c32f65df-1057-47ed-abd3-147110c60b5d"
      },
      "source": [
        "# Getting a little tricker\n",
        "d = {'k1':[{'nest_key':['this is deep',['hello']]}]}\n",
        "\n",
        "#Grab hello\n",
        "d['k1'][0]['nest_key'][1][0]"
      ],
      "execution_count": 38,
      "outputs": [
        {
          "output_type": "execute_result",
          "data": {
            "text/plain": [
              "'hello'"
            ]
          },
          "metadata": {
            "tags": []
          },
          "execution_count": 38
        }
      ]
    },
    {
      "cell_type": "code",
      "metadata": {
        "id": "4U4bwnyVDCwB",
        "colab_type": "code",
        "colab": {
          "base_uri": "https://localhost:8080/",
          "height": 34
        },
        "outputId": "80d7f603-493c-4eba-9494-e8d694247b9c"
      },
      "source": [
        "# This will be hard and annoying!\n",
        "d = {'k1':[1,2,{'k2':['this is tricky',{'tough':[1,2,['hello']]}]}]}\n",
        "d['k1'][2]['k2'][1]['tough'][2][0]"
      ],
      "execution_count": 45,
      "outputs": [
        {
          "output_type": "execute_result",
          "data": {
            "text/plain": [
              "'hello'"
            ]
          },
          "metadata": {
            "tags": []
          },
          "execution_count": 45
        }
      ]
    },
    {
      "cell_type": "markdown",
      "metadata": {
        "id": "_PkEaB_hDCwG",
        "colab_type": "text"
      },
      "source": [
        "Can you sort a dictionary? Why or why not?<br><br>\n",
        "we cant"
      ]
    },
    {
      "cell_type": "markdown",
      "metadata": {
        "id": "Brvtg3HnDCwG",
        "colab_type": "text"
      },
      "source": [
        "## Tuples"
      ]
    },
    {
      "cell_type": "markdown",
      "metadata": {
        "id": "6X2mX-ukDCwH",
        "colab_type": "text"
      },
      "source": [
        "What is the major difference between tuples and lists?<br><br>\n",
        "lists are mutable but tuples are imutable\n"
      ]
    },
    {
      "cell_type": "markdown",
      "metadata": {
        "id": "jYOdgsjQDCwI",
        "colab_type": "text"
      },
      "source": [
        "[link text](https://)How do you create a tuple?<br><br>\n",
        "using (), we can create tuple. We can assign any values but we cant pass a value to a particular index space."
      ]
    },
    {
      "cell_type": "markdown",
      "metadata": {
        "id": "gAR1oRyyDCwL",
        "colab_type": "text"
      },
      "source": [
        "## Sets "
      ]
    },
    {
      "cell_type": "markdown",
      "metadata": {
        "id": "-skcicSiDCwM",
        "colab_type": "text"
      },
      "source": [
        "What is unique about a set?<br><br>\n",
        "takes all values, but stores only unique value."
      ]
    },
    {
      "cell_type": "markdown",
      "metadata": {
        "id": "SyYmDbdfDCwN",
        "colab_type": "text"
      },
      "source": [
        "Use a set to find the unique values of the list below:"
      ]
    },
    {
      "cell_type": "code",
      "metadata": {
        "id": "zc27ejEHDCwO",
        "colab_type": "code",
        "colab": {
          "base_uri": "https://localhost:8080/",
          "height": 34
        },
        "outputId": "2cfa9593-ca6d-4e8a-90a9-abc754a545f3"
      },
      "source": [
        "list5 = [1,2,2,33,4,4,11,22,3,3,2]\n",
        "set(list5)\n",
        "\n"
      ],
      "execution_count": 46,
      "outputs": [
        {
          "output_type": "execute_result",
          "data": {
            "text/plain": [
              "{1, 2, 3, 4, 11, 22, 33}"
            ]
          },
          "metadata": {
            "tags": []
          },
          "execution_count": 46
        }
      ]
    },
    {
      "cell_type": "markdown",
      "metadata": {
        "id": "43_KB3P6DCwR",
        "colab_type": "text"
      },
      "source": [
        "## Booleans"
      ]
    },
    {
      "cell_type": "markdown",
      "metadata": {
        "id": "Amfz4fPyDCwR",
        "colab_type": "text"
      },
      "source": [
        "For the following quiz questions, we will get a preview of comparison operators. In the table below, a=3 and b=4.\n",
        "\n",
        "<table class=\"table table-bordered\">\n",
        "<tr>\n",
        "<th style=\"width:10%\">Operator</th><th style=\"width:45%\">Description</th><th>Example</th>\n",
        "</tr>\n",
        "<tr>\n",
        "<td>==</td>\n",
        "<td>If the values of two operands are equal, then the condition becomes true.</td>\n",
        "<td> (a == b) is not true.</td>\n",
        "</tr>\n",
        "<tr>\n",
        "<td>!=</td>\n",
        "<td>If values of two operands are not equal, then condition becomes true.</td>\n",
        "<td> (a != b) is true.</td>\n",
        "</tr>\n",
        "<tr>\n",
        "<td>&gt;</td>\n",
        "<td>If the value of left operand is greater than the value of right operand, then condition becomes true.</td>\n",
        "<td> (a &gt; b) is not true.</td>\n",
        "</tr>\n",
        "<tr>\n",
        "<td>&lt;</td>\n",
        "<td>If the value of left operand is less than the value of right operand, then condition becomes true.</td>\n",
        "<td> (a &lt; b) is true.</td>\n",
        "</tr>\n",
        "<tr>\n",
        "<td>&gt;=</td>\n",
        "<td>If the value of left operand is greater than or equal to the value of right operand, then condition becomes true.</td>\n",
        "<td> (a &gt;= b) is not true. </td>\n",
        "</tr>\n",
        "<tr>\n",
        "<td>&lt;=</td>\n",
        "<td>If the value of left operand is less than or equal to the value of right operand, then condition becomes true.</td>\n",
        "<td> (a &lt;= b) is true. </td>\n",
        "</tr>\n",
        "</table>"
      ]
    },
    {
      "cell_type": "markdown",
      "metadata": {
        "id": "UAZzUdCYDCwS",
        "colab_type": "text"
      },
      "source": [
        "What will be the resulting Boolean of the following pieces of code (answer fist then check by typing it in!)"
      ]
    },
    {
      "cell_type": "code",
      "metadata": {
        "id": "bUcy1icqDCwT",
        "colab_type": "code",
        "colab": {
          "base_uri": "https://localhost:8080/",
          "height": 34
        },
        "outputId": "4dd8ceb4-bea0-400b-ba17-7bc266949d47"
      },
      "source": [
        "# Answer before running cell\n",
        "2 > 3"
      ],
      "execution_count": 47,
      "outputs": [
        {
          "output_type": "execute_result",
          "data": {
            "text/plain": [
              "False"
            ]
          },
          "metadata": {
            "tags": []
          },
          "execution_count": 47
        }
      ]
    },
    {
      "cell_type": "code",
      "metadata": {
        "id": "2oWtI9XEDCwV",
        "colab_type": "code",
        "colab": {
          "base_uri": "https://localhost:8080/",
          "height": 34
        },
        "outputId": "480c56fe-3cbb-477f-df69-57e4f19c241c"
      },
      "source": [
        "# Answer before running cell\n",
        "3 <= 2"
      ],
      "execution_count": 48,
      "outputs": [
        {
          "output_type": "execute_result",
          "data": {
            "text/plain": [
              "False"
            ]
          },
          "metadata": {
            "tags": []
          },
          "execution_count": 48
        }
      ]
    },
    {
      "cell_type": "code",
      "metadata": {
        "id": "-zl3owJEDCwX",
        "colab_type": "code",
        "colab": {
          "base_uri": "https://localhost:8080/",
          "height": 34
        },
        "outputId": "92336fe6-0366-4749-8a4e-cb56958bef43"
      },
      "source": [
        "# Answer before running cell\n",
        "3 == 2.0"
      ],
      "execution_count": 49,
      "outputs": [
        {
          "output_type": "execute_result",
          "data": {
            "text/plain": [
              "False"
            ]
          },
          "metadata": {
            "tags": []
          },
          "execution_count": 49
        }
      ]
    },
    {
      "cell_type": "code",
      "metadata": {
        "id": "Cume93VEDCwY",
        "colab_type": "code",
        "colab": {
          "base_uri": "https://localhost:8080/",
          "height": 34
        },
        "outputId": "42467727-05eb-4582-a972-dd61cb958658"
      },
      "source": [
        "# Answer before running cell\n",
        "3.0 == 3"
      ],
      "execution_count": 50,
      "outputs": [
        {
          "output_type": "execute_result",
          "data": {
            "text/plain": [
              "True"
            ]
          },
          "metadata": {
            "tags": []
          },
          "execution_count": 50
        }
      ]
    },
    {
      "cell_type": "code",
      "metadata": {
        "id": "bRazFqNTDCwa",
        "colab_type": "code",
        "colab": {
          "base_uri": "https://localhost:8080/",
          "height": 34
        },
        "outputId": "049ea8ac-917b-46f8-ed88-c029bb0b2173"
      },
      "source": [
        "# Answer before running cell\n",
        "4**0.5 != 2"
      ],
      "execution_count": 51,
      "outputs": [
        {
          "output_type": "execute_result",
          "data": {
            "text/plain": [
              "False"
            ]
          },
          "metadata": {
            "tags": []
          },
          "execution_count": 51
        }
      ]
    },
    {
      "cell_type": "markdown",
      "metadata": {
        "id": "cbKp0WkVDCwc",
        "colab_type": "text"
      },
      "source": [
        "Final Question: What is the boolean output of the cell block below?"
      ]
    },
    {
      "cell_type": "code",
      "metadata": {
        "id": "FsOqc1fgDCwe",
        "colab_type": "code",
        "colab": {
          "base_uri": "https://localhost:8080/",
          "height": 34
        },
        "outputId": "6f36df4f-0f5b-4b3b-9790-f8605203181c"
      },
      "source": [
        "# two nested lists\n",
        "l_one = [1,2,[3,4]]\n",
        "l_two = [1,2,{'k1':4}]\n",
        "\n",
        "# True or False?\n",
        "l_one[2][0] >= l_two[2]['k1']"
      ],
      "execution_count": 52,
      "outputs": [
        {
          "output_type": "execute_result",
          "data": {
            "text/plain": [
              "False"
            ]
          },
          "metadata": {
            "tags": []
          },
          "execution_count": 52
        }
      ]
    },
    {
      "cell_type": "code",
      "metadata": {
        "id": "XTu9WQZxSYxF",
        "colab_type": "code",
        "colab": {}
      },
      "source": [
        ""
      ],
      "execution_count": 0,
      "outputs": []
    }
  ]
}